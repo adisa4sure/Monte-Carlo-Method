{
 "cells": [
  {
   "cell_type": "markdown",
   "id": "420e09ce",
   "metadata": {},
   "source": [
    "## Problem:\n",
    "Consider two RNGs. One of the LCG-type and another of a more modern type. Perform two of the three following tests on them.\n",
    "-  Bin-counting, or $\\chi^2$ test.\n",
    "- Kolmogorov-Smirnov test. \n",
    "- Correlation function or ”baby spectral” test. "
   ]
  },
  {
   "cell_type": "markdown",
   "id": "9968887c",
   "metadata": {},
   "source": [
    "## Linear Congruential Generator"
   ]
  },
  {
   "cell_type": "code",
   "execution_count": 1,
   "id": "b37855e3",
   "metadata": {},
   "outputs": [
    {
     "data": {
      "text/plain": [
       "array([0.85307284, 0.89397933, 0.62529999, ..., 0.3311992 , 0.95695742,\n",
       "       0.85349169])"
      ]
     },
     "execution_count": 1,
     "metadata": {},
     "output_type": "execute_result"
    }
   ],
   "source": [
    "import numpy as np\n",
    "from collections.abc import Generator\n",
    "\n",
    "def lcg(modulus: int, a: int, c: int, seed: int) -> Generator[int, None, None]:\n",
    "    \"\"\"Linear congruential generator.\"\"\"\n",
    "    while True:\n",
    "        seed = (a * seed + c) % modulus\n",
    "        yield seed/modulus\n",
    "\n",
    "#Parameters\n",
    "m = 2**64\n",
    "a = 364136223846793005\n",
    "c = 442695040888963407\n",
    "seed = 5\n",
    "num_samples = 5000000\n",
    "my_lcg = lcg(modulus=m, a=a, c=c, seed=42)\n",
    "np.array([next(my_lcg) for _ in range(num_samples)])"
   ]
  },
  {
   "cell_type": "markdown",
   "id": "3eee8545",
   "metadata": {},
   "source": [
    "### Chi-Square Test"
   ]
  },
  {
   "cell_type": "code",
   "execution_count": 2,
   "id": "11e98d63",
   "metadata": {},
   "outputs": [
    {
     "name": "stdout",
     "output_type": "stream",
     "text": [
      "Chi-square statistic: 85.86612000000001\n",
      "Degrees of freedom: 99\n",
      "Critical-value: 123.2252214533618\n",
      "P-value: 0.8238755598614643\n",
      "Do not reject the null hypothesis. The generated random numbers follow uniform distribution.\n"
     ]
    }
   ],
   "source": [
    "from scipy.stats import chi2\n",
    "\n",
    "num_bins = 100\n",
    "my_lcg = lcg(modulus=m, a=a, c=c, seed=42)\n",
    "random_num = [next(my_lcg) for _ in range(num_samples)]\n",
    "observed_frequencies, _ = np.histogram(random_num, bins=num_bins)\n",
    "expected_frequencies = np.ones(num_bins)*len(random_num)/num_bins\n",
    "\n",
    "#the chi-square statistic\n",
    "chi_square_statistic = np.sum((observed_frequencies - expected_frequencies)**2 / expected_frequencies)\n",
    "degrees_of_freedom = num_bins - 1\n",
    "p_value = 1 - chi2.cdf(chi_square_statistic, degrees_of_freedom)\n",
    "critical_value = chi2.ppf(0.95, degrees_of_freedom)\n",
    "\n",
    "print(f\"Chi-square statistic: {chi_square_statistic}\")\n",
    "print(f\"Degrees of freedom: {degrees_of_freedom}\")\n",
    "print(f\"Critical-value: {critical_value}\")\n",
    "print(f\"P-value: {p_value}\")\n",
    "\n",
    "#Decision: Compare p-value to significance level alpha\n",
    "significance_level = 0.05\n",
    "if p_value < significance_level:\n",
    "    print(\"Reject the null hypothesis. The generated random numbers do not follow uniform distribution.\")\n",
    "else:\n",
    "    print(\"Do not reject the null hypothesis. The generated random numbers follow uniform distribution.\")\n"
   ]
  },
  {
   "cell_type": "code",
   "execution_count": 3,
   "id": "428982c2",
   "metadata": {},
   "outputs": [
    {
     "data": {
      "image/png": "[encoded data removed]",
      "text/plain": [
       "<Figure size 640x480 with 1 Axes>"
      ]
     },
     "metadata": {},
     "output_type": "display_data"
    }
   ],
   "source": [
    "import matplotlib.pyplot as plt\n",
    "# Plot the histogram\n",
    "plt.hist(random_num, bins=int(num_bins/2), edgecolor='black', alpha=0.7)\n",
    "\n",
    "# Add labels and title\n",
    "plt.xlabel('Value')\n",
    "plt.ylabel('Frequency')\n",
    "plt.title('Histogram of uniform random numbers')\n",
    "\n",
    "# Display the plot\n",
    "plt.show()"
   ]
  },
  {
   "cell_type": "code",
   "execution_count": null,
   "id": "53a73028",
   "metadata": {},
   "outputs": [],
   "source": []
  },
  {
   "cell_type": "markdown",
   "id": "74992753",
   "metadata": {},
   "source": [
    "### Kolmogorov-Smirnov Test for Uniform Random Number"
   ]
  },
  {
   "cell_type": "code",
   "execution_count": 4,
   "id": "59acae87",
   "metadata": {},
   "outputs": [
    {
     "name": "stdout",
     "output_type": "stream",
     "text": [
      "Do not reject the null hypothesis. The generated random numbers may follow a uniform distribution.\n",
      "Test Statistic (D): 0.00023905978480642798\n",
      "Critical value: 0.0006073281893044603\n",
      "P-value: 0.9374080594587578\n"
     ]
    }
   ],
   "source": [
    "from scipy.stats import kstest\n",
    "from scipy.stats import ksone\n",
    "\n",
    "alpha = 0.05\n",
    "my_lcg = lcg(modulus=m, a=a, c=c, seed=42)\n",
    "random_num = [next(my_lcg) for _ in range(num_samples)]\n",
    "sorted_num = np.sort(random_num)\n",
    "\n",
    "#Empirical Cumulative Distribution Function (ECDF)\n",
    "ecdf = np.arange(1, len(sorted_num) + 1) / len(sorted_num)\n",
    "\n",
    "#the Expected Cumulative Distribution Function (CDF)\n",
    "expected_cdf = np.linspace(0, 1, len(sorted_num))\n",
    "\n",
    "#the Test Statistic (D)\n",
    "degrees_of_freedom = len(sorted_num) - 1\n",
    "test_statistic, p_value = kstest(sorted_num, 'uniform')\n",
    "ks_critical_value = ksone.ppf(1 - alpha / 2, degrees_of_freedom)\n",
    "\n",
    "#Decision\n",
    "if p_value < alpha:\n",
    "    print(f\"Reject the null hypothesis. The generated random numbers do not follow a uniform distribution.\")\n",
    "else:\n",
    "    print(f\"Do not reject the null hypothesis. The generated random numbers may follow a uniform distribution.\")\n",
    "    \n",
    "print(f\"Test Statistic (D): {test_statistic}\")\n",
    "print(f\"Critical value: {ks_critical_value}\")\n",
    "print(f\"P-value: {p_value}\")"
   ]
  },
  {
   "cell_type": "markdown",
   "id": "f98121ec",
   "metadata": {},
   "source": [
    "### Kolmogorov-Smirnov Test for Exponential Random Number"
   ]
  },
  {
   "cell_type": "code",
   "execution_count": 5,
   "id": "f32fe034",
   "metadata": {},
   "outputs": [
    {
     "name": "stdout",
     "output_type": "stream",
     "text": [
      "Reject the null hypothesis. The generated random numbers do not follow a uniform distribution.\n",
      "Test Statistic (D): 0.6020087895728785\n",
      "Critical value: 0.04279790591241727\n",
      "P-value: 0.0\n"
     ]
    }
   ],
   "source": [
    "Lambda = 0.5\n",
    "alpha = 0.05\n",
    "exp_random_numbers = np.random.exponential(scale=1/Lambda, size=1000)\n",
    "sorted_num = np.sort(exp_random_numbers)\n",
    "\n",
    "#Empirical Cumulative Distribution Function (ECDF)\n",
    "ecdf = np.arange(1, len(sorted_num) + 1) / len(sorted_num)\n",
    "\n",
    "#the Expected Cumulative Distribution Function (CDF)\n",
    "expected_cdf = np.linspace(0, 1, len(sorted_num))\n",
    "\n",
    "#the Test Statistic (D)\n",
    "degrees_of_freedom = len(sorted_num) - 1\n",
    "test_statistic, p_value = kstest(sorted_num, 'uniform')\n",
    "ks_critical_value = ksone.ppf(1 - alpha / 2, degrees_of_freedom)\n",
    "\n",
    "#Decision\n",
    "if p_value < alpha:\n",
    "    print(f\"Reject the null hypothesis. The generated random numbers do not follow a uniform distribution.\")\n",
    "else:\n",
    "    print(f\"Do not reject the null hypothesis. The generated random numbers may follow a uniform distribution.\")\n",
    "    \n",
    "print(f\"Test Statistic (D): {test_statistic}\")\n",
    "print(f\"Critical value: {ks_critical_value}\")\n",
    "print(f\"P-value: {p_value}\")"
   ]
  },
  {
   "cell_type": "code",
   "execution_count": 6,
   "id": "d386ebac",
   "metadata": {},
   "outputs": [
    {
     "data": {
      "image/png": "[encoded data removed]",
      "text/plain": [
       "<Figure size 640x480 with 1 Axes>"
      ]
     },
     "metadata": {},
     "output_type": "display_data"
    }
   ],
   "source": [
    "import matplotlib.pyplot as plt\n",
    "# Plot the histogram\n",
    "plt.hist(exp_random_numbers, bins=25, edgecolor='black', alpha=0.7)\n",
    "\n",
    "# Add labels and title\n",
    "plt.xlabel('Value')\n",
    "plt.ylabel('Frequency')\n",
    "plt.title('Histogram of exponential random numbers')\n",
    "\n",
    "# Display the plot\n",
    "plt.show()"
   ]
  },
  {
   "cell_type": "code",
   "execution_count": null,
   "id": "87868916",
   "metadata": {},
   "outputs": [],
   "source": []
  }
 ],
 "metadata": {
  "kernelspec": {
   "display_name": "Python 3 (ipykernel)",
   "language": "python",
   "name": "python3"
  },
  "language_info": {
   "codemirror_mode": {
    "name": "ipython",
    "version": 3
   },
   "file_extension": ".py",
   "mimetype": "text/x-python",
   "name": "python",
   "nbconvert_exporter": "python",
   "pygments_lexer": "ipython3",
   "version": "3.11.5"
  }
 },
 "nbformat": 4,
 "nbformat_minor": 5
}
