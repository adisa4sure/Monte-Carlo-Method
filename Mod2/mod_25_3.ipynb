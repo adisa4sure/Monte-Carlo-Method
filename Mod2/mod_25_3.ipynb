{
 "cells": [
  {
   "cell_type": "markdown",
   "id": "61dc6fc0",
   "metadata": {},
   "source": [
    "## Ganiyu Saheed Adisa\n",
    "### Homework #5 (problem 25.3)"
   ]
  },
  {
   "cell_type": "markdown",
   "id": "341c85ae",
   "metadata": {},
   "source": [
    "**Problem 25.3.** There are $N=10$ particles that occupy discrete sites in a ring of length $L=40$. (See the picture below.) No two particles may occupy the same site. One can represent the state, e.g., by the coordinates of the particles $0 \\leq x_n<L$, with $1 \\leq n \\leq N$. In this case $x_m \\neq x_n$ whenever $m \\neq n$. Another way to represent the state is the set of numbers $n_x$, where $0 \\leq x<L$, which are equal to either 0 (no particle at site $x$ ) or 1 (there is a particle at site $x$ ). The energy of the state is equal to minus the number of neighboring pairs of particles (here $n_L$ is used as an alias for $n_0$ ):\n",
    "\n",
    "$$\n",
    "E\\{\\boldsymbol{x} \\text { or } \\boldsymbol{n}\\}=-\\sum_{x=0}^{L-1} n_x n_{x+1}=-\\sum_{m=1}^N \\sum_{n=1}^N \\delta_{x_m-x_n, 1(\\bmod L)}=-\\sum_{m=1}^{N-1} \\sum_{n=m+1}^N \\begin{cases}1, & \\left|x_m-x_n\\right|=1 \\\\ 0, & \\left|x_m-x_n\\right| \\neq 1\\end{cases}\n",
    "$$\n",
    "![alt text here](fig1.png)\n",
    "\n",
    "The distribution over states is $\\mathrm{P}($ state $)=\\exp (-E$ (state $) / T) / Z(T)$, where $T$ is temperature and $Z(T)=\\sum_{\\text {state }} \\exp (-E($ state $) / T)$ is the partition sum (for normalization). Plot the average energy $\\langle E\\rangle=\\sum_{\\text {state }} E$ (state) $\\mathrm{P}($ state) as a function of temperature $T$ (e.g., for $0 \\leq T \\leq 2$ ). \n",
    "\n",
    "**Solution:** from\n",
    "$$\n",
    "\\begin{aligned}\n",
    "\\langle E\\rangle & = \\sum_{\\text {state }} E (\\text {state }) \\mathrm{P}( \\text {state }) \\\\\n",
    "& = \\frac{\\sum_{\\text {state }} E(\\text { state }) e^{-E(\\text { state }) / T}}{\\sum_{\\text {state }} e^{-E(\\text { state }) / T}}.\n",
    "\\end{aligned}\n",
    "$$\n",
    "\n",
    "Following the above formula, I first find all the possible unique states, which is of size ${}^{40}C_{10} = 847660528$, then compute the average energy according the above formula as a function of temperature."
   ]
  },
  {
   "cell_type": "code",
   "execution_count": 5,
   "id": "3a0e939e",
   "metadata": {},
   "outputs": [
    {
     "name": "stdout",
     "output_type": "stream",
     "text": [
      "Temp = 0.1\n",
      "Temp = 0.575\n",
      "Temp = 1.05\n",
      "Temp = 1.525\n",
      "Temp = 2.0\n"
     ]
    },
    {
     "data": {
      "text/plain": [
       "[-8.994350861124682,\n",
       " -4.951083399054623,\n",
       " -3.7235523456901447,\n",
       " -3.2625683382338426,\n",
       " -3.025799826962755]"
      ]
     },
     "execution_count": 5,
     "metadata": {},
     "output_type": "execute_result"
    }
   ],
   "source": [
    "import numpy as np\n",
    "import itertools\n",
    "\n",
    "def energy(state):\n",
    "    L = len(state)\n",
    "    #energys = -sum(state[i]*state[(i+1)%L] for i in range(L))\n",
    "    energys = -np.dot(state, np.roll(state, -1)) # Vectorized energy computation\n",
    "    return energys\n",
    "\n",
    "def avg_energy(T, L, N):\n",
    "    Z = 0\n",
    "    E = 0\n",
    "    #print(\"Temp =\", T)\n",
    "    for state in all_states(L, N):\n",
    "        state_energy = energy(state)\n",
    "        Z += np.exp(-state_energy/T)\n",
    "        E += state_energy*np.exp(-state_energy/T)\n",
    "    return E/Z\n",
    "\n",
    "def all_states(L, N):\n",
    "    # generate all possible unique states\n",
    "    for pos in itertools.combinations(range(L), N):\n",
    "        state = [0]*L\n",
    "        for p in pos:\n",
    "            state[p] = 1  # asigning 1 to each possible positions in the state\n",
    "        #if state[::-1] < state:\n",
    "            # Take advantage of symmetry\n",
    "            #continue\n",
    "        yield state\n",
    "\n",
    "L = 40\n",
    "N = 10\n",
    "temps = np.linspace(0.1, 2, 5)\n",
    "energies = []\n",
    "for T in temps:\n",
    "    res = avg_energy(T, L, N)\n",
    "    energies.append(res)\n",
    "energies"
   ]
  },
  {
   "cell_type": "code",
   "execution_count": 6,
   "id": "5d72e99a",
   "metadata": {},
   "outputs": [
    {
     "data": {
      "image/png": "[encoded data removed]",
      "text/plain": [
       "<Figure size 432x288 with 1 Axes>"
      ]
     },
     "metadata": {
      "needs_background": "light"
     },
     "output_type": "display_data"
    }
   ],
   "source": [
    "import matplotlib.pyplot as plt\n",
    "\n",
    "plt.plot(temps, energies)\n",
    "plt.xlabel('Temperature')\n",
    "plt.ylabel('Average energy')\n",
    "plt.show()"
   ]
  },
  {
   "cell_type": "markdown",
   "id": "f669cfa3",
   "metadata": {},
   "source": [
    "**Observation:** I computed the average energy for the range of temperature $ 0.1 \\leq T \\leq 2$ because if I start from zero I do encounter overflow in the exponential function, which always end up with \"nan\" value. Moreover, using lenght of ring $L = 40$ and number of particle $N = 10$ takes some hours to complete, which made me to make few partitions$(5)$ of the the given range. But, with others combinations such as ${}^{40}C_{5}$, and ${}^{40}C_{36}$ are faster (just few minutes) and I am able to create more paritions within the the given range. The following are there results."
   ]
  },
  {
   "cell_type": "code",
   "execution_count": 17,
   "id": "d648a1d7",
   "metadata": {},
   "outputs": [
    {
     "data": {
      "image/png": "[encoded data removed]",
      "text/plain": [
       "<Figure size 432x288 with 1 Axes>"
      ]
     },
     "metadata": {
      "needs_background": "light"
     },
     "output_type": "display_data"
    }
   ],
   "source": [
    "# Computing for L = 40 with N = 5\n",
    "L = 40\n",
    "N = 5\n",
    "temps = np.linspace(0.1, 2, 20)\n",
    "energies = []\n",
    "for T in temps:\n",
    "    res = avg_energy(T, L, N)\n",
    "    energies.append(res)\n",
    "\n",
    "# Ploting\n",
    "plt.plot(temps, energies)\n",
    "plt.xlabel('Temperature')\n",
    "plt.ylabel('Average energy')\n",
    "plt.show()"
   ]
  },
  {
   "cell_type": "code",
   "execution_count": 18,
   "id": "f2c131cf",
   "metadata": {},
   "outputs": [
    {
     "data": {
      "image/png": "[encoded data removed]",
      "text/plain": [
       "<Figure size 432x288 with 1 Axes>"
      ]
     },
     "metadata": {
      "needs_background": "light"
     },
     "output_type": "display_data"
    }
   ],
   "source": [
    "# Computing for L = 40 with N = 36\n",
    "L = 40\n",
    "N = 36\n",
    "temps = np.linspace(0.1, 2, 20)\n",
    "energies = []\n",
    "for T in temps:\n",
    "    res = avg_energy(T, L, N)\n",
    "    energies.append(res)\n",
    "\n",
    "# Plotting\n",
    "plt.plot(temps, energies)\n",
    "plt.xlabel('Temperature')\n",
    "plt.ylabel('Average energy')\n",
    "plt.show()"
   ]
  },
  {
   "cell_type": "markdown",
   "id": "0c0f2ae5",
   "metadata": {},
   "source": [
    "**Observation:** Generally, we noticed from all the above results that as temperature increases, the energy also increases. Further more, we notice that, as number of particles increase, the energy decrease in relation to the ring of lenght $L = 40$."
   ]
  },
  {
   "cell_type": "code",
   "execution_count": null,
   "id": "76068d9f",
   "metadata": {},
   "outputs": [],
   "source": []
  }
 ],
 "metadata": {
  "kernelspec": {
   "display_name": "Python 3 (ipykernel)",
   "language": "python",
   "name": "python3"
  },
  "language_info": {
   "codemirror_mode": {
    "name": "ipython",
    "version": 3
   },
   "file_extension": ".py",
   "mimetype": "text/x-python",
   "name": "python",
   "nbconvert_exporter": "python",
   "pygments_lexer": "ipython3",
   "version": "3.10.6"
  }
 },
 "nbformat": 4,
 "nbformat_minor": 5
}
