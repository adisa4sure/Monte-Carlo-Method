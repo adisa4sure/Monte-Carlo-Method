{
 "cells": [
  {
   "cell_type": "markdown",
   "id": "243ef17d",
   "metadata": {},
   "source": [
    "## Ganiyu Saheed Adisa\n",
    "### Home Work #4"
   ]
  },
  {
   "cell_type": "code",
   "execution_count": 1,
   "id": "5ff7011b",
   "metadata": {},
   "outputs": [],
   "source": [
    "# importing all the necessary packages\n",
    "import numpy as np\n",
    "from matplotlib import pyplot as plt\n",
    "from random import normalvariate\n",
    "from numpy.linalg import matrix_power\n",
    "from numpy.linalg import eig\n",
    "from scipy.stats import norm, t\n",
    "from sympy import *\n",
    "init_printing()"
   ]
  },
  {
   "cell_type": "markdown",
   "id": "510c6cc2",
   "metadata": {},
   "source": [
    "**Problem 23.2.** Write a random number generator that produces numbers distributed according to density distribution function\n",
    "$$\n",
    "f(x)= \\begin{cases}x^2, & 0 \\leq x \\leq 1 \\\\ \\sqrt{2-x}, & 1 \\leq x \\leq 2 \\\\ 0, & x \\leq 0 \\text { or } x \\geq 2 .\\end{cases}\n",
    "$$\n",
    "**Solution** \\\n",
    "We have the CDF as:\n",
    "$$\n",
    "F(x)=\\left\\{\\begin{array}{ll}\n",
    "0, & x<0 \\\\\n",
    "\\frac{x^3}{3}, & 0 \\leq x \\leq 1 \\\\\n",
    "1-\\frac{2}{3}(2-x)^{3 / 2}, & 1 \\leq x \\leq 2 \\\\\n",
    "1, & \\text { otherwise. }\n",
    "\\end{array}\\right.\n",
    "$$\n",
    "Taking the inverse of $F(x)$, we have\n",
    "$$\n",
    "X=\\left\\{\\begin{array}{ll}\n",
    "(2 u)^{1 / 3}, & 0 \\leq u \\leq \\frac{1}{3} \\\\\n",
    "2-\\left(\\frac{3}{2}(1-u)\\right)^{2 / 3}, & \\frac{1}{3} \\leq u \\leq 1 .\n",
    "\\end{array}\\right.\n",
    "$$"
   ]
  },
  {
   "cell_type": "code",
   "execution_count": 3,
   "id": "a81395fd",
   "metadata": {},
   "outputs": [
    {
     "data": {
      "text/plain": [
       "(array([  8800.,  57802., 154605., 299294., 153267., 377624., 331860.,\n",
       "        281098., 216859., 118791.]),\n",
       " array([0.00739963, 0.20664233, 0.40588502, 0.60512771, 0.80437041,\n",
       "        1.0036131 , 1.20285579, 1.40209849, 1.60134118, 1.80058387,\n",
       "        1.99982656]),\n",
       " <BarContainer object of 10 artists>)"
      ]
     },
     "execution_count": 3,
     "metadata": {},
     "output_type": "execute_result"
    },
    {
     "data": {
      "image/png": "[encoded data removed]",
      "text/plain": [
       "<Figure size 432x288 with 1 Axes>"
      ]
     },
     "metadata": {
      "needs_background": "light"
     },
     "output_type": "display_data"
    }
   ],
   "source": [
    "N = 2000000\n",
    "rnd = np.random.random(N)  # generating a random numbers u \\in [0,1) of N lenght\n",
    "def f1(u):  # defining the first peicewise function of F(X) inverse\n",
    "    return (2*u)**(1/3)\n",
    "def f2(u):  # defining the second peicewise function of F(X) inverse\n",
    "    return 2-((3/2)*(1-u))**(2/3)\n",
    "\n",
    "# Using comprehension list to compute X\n",
    "X = np.array([f1(u) if u <= (1/3) else f2(u) for u in rnd])\n",
    "plt.hist(X)"
   ]
  },
  {
   "cell_type": "code",
   "execution_count": null,
   "id": "422eba3f",
   "metadata": {},
   "outputs": [],
   "source": []
  },
  {
   "cell_type": "markdown",
   "id": "cd0439bf",
   "metadata": {},
   "source": [
    "**Problem 24.1**\n",
    "1. A mouse, starting from cell 4 , runs through the maze on the right. At each step it moves to a neighboring cell that is not separated by a wall (chosen with equal probability, independently of the past). The mouse continues moving in this way until it eats the cheese at cell 13 (after that it escapes to the outside), or it is eaten by the cat at cell $14$. Find (by means of your choice, e.g., analytically, or studying eigenvectors of the corresponding Markov chain transition matrix, or by Monte Carlo method, etc.) the probability that the mouse escapes.\n",
    "\n",
    "![alt text here](ffig1.png)\n",
    "\n",
    "We approach the problem by Markov method by creating its transition matrix $T_{ij}$ of size 16 by 16 as we consider each cell as a state. Then, we compute probability state vector distribution i.e. $\\pi(t+k) = \\pi(t)T^{k}$ in order to get stationary distribution i.e. $\\pi^{*} = \\pi^{*}T$ ."
   ]
  },
  {
   "cell_type": "code",
   "execution_count": 3,
   "id": "9b226c3f",
   "metadata": {},
   "outputs": [
    {
     "name": "stdout",
     "output_type": "stream",
     "text": [
      "The stationary distribution is =\n",
      " [0.00000000e+00 4.26145149e-37 0.00000000e+00 2.98393944e-37\n",
      " 1.59094279e-37 0.00000000e+00 1.44528432e-37 0.00000000e+00\n",
      " 0.00000000e+00 2.16585823e-37 0.00000000e+00 2.33263999e-37\n",
      " 3.91304348e-01 6.08695652e-01 1.53995122e-37 0.00000000e+00]\n",
      "\n",
      " The probability that the mouse escapes is = 0.39130434782608686\n"
     ]
    }
   ],
   "source": [
    "# Building the transition matrix T\n",
    "r1 = [0,1/2,0,0,1/2,0,0,0,0,0,0,0,0,0,0,0]\n",
    "r2 = [1/3,0,1/3,0,0,1/3,0,0,0,0,0,0,0,0,0,0]\n",
    "r3 = [0,1/2,0,1/2,0,0,0,0,0,0,0,0,0,0,0,0]\n",
    "r4 = [0,0,1/2,0,0,0,0,1/2,0,0,0,0,0,0,0,0]\n",
    "r5 = [1,0,0,0,0,0,0,0,0,0,0,0,0,0,0,0]\n",
    "r6 = [0,1/2,0,0,0,0,0,0,0,1/2,0,0,0,0,0,0]\n",
    "r7 = [0,0,0,0,0,0,0,1,0,0,0,0,0,0,0,0]\n",
    "r8 = [0,0,0,1/3,0,0,1/3,0,0,0,0,1/3,0,0,0,0]\n",
    "r9 = [0,0,0,0,0,0,0,0,0,1/2,0,0,1/2,0,0,0]\n",
    "r10 = [0,0,0,0,0,1/3,0,0,1/3,0,1/3,0,0,0,0,0]\n",
    "r11 = [0,0,0,0,0,0,0,0,0,1/2,0,0,0,0,1/2,0]\n",
    "r12 = [0,0,0,0,0,0,0,1/2,0,0,0,0,0,0,0,1/2]\n",
    "r13 = [0,0,0,0,0,0,0,0,0,0,0,0,1,0,0,0]\n",
    "r14 = [0,0,0,0,0,0,0,0,0,0,0,0,0,1,0,0]\n",
    "r15 = [0,0,0,0,0,0,0,0,0,0,1/3,0,0,1/3,0,1/3]\n",
    "r16 = [0,0,0,0,0,0,0,0,0,0,0,1/2,0,0,1/2,0]\n",
    "T = np.array([r1,r2,r3,r4,r5,r6,r7,r8,r9,r10,r11,r12,r13,r14,r15,r16])\n",
    "\n",
    "# Computing the stationary distribution\n",
    "k = 3000\n",
    "T_k = matrix_power(T, k) #taking the power of matrix in k times\n",
    "pi_0 = np.array([0,0,0,1,0,0,0,0,0,0,0,0,0,0,0,0])\n",
    "pi = np.matmul(pi_0,T_k)\n",
    "print(\"The stationary distribution is =\\n\", pi)\n",
    "print(\"\\n The probability that the mouse escapes is =\", pi[12])"
   ]
  },
  {
   "cell_type": "markdown",
   "id": "6697be78",
   "metadata": {},
   "source": [
    "**Alternatively:** Using the eigen vector of the transiton matrix"
   ]
  },
  {
   "cell_type": "code",
   "execution_count": 4,
   "id": "08d8b1c2",
   "metadata": {},
   "outputs": [],
   "source": [
    "T2=Matrix(T)\n",
    "T2=T2.eigenvects()    # Computing the eigenvector\n",
    "t1=T2[10][2][0]\n",
    "t2=T2[11][2][0]"
   ]
  },
  {
   "cell_type": "code",
   "execution_count": 5,
   "id": "68292071",
   "metadata": {},
   "outputs": [
    {
     "data": {
      "text/latex": [
       "$\\displaystyle \\left[\\begin{matrix}0.478260869565217\\\\0.478260869565217\\\\0.434782608695652\\\\0.391304347826087\\\\0.478260869565217\\\\0.521739130434782\\\\0.347826086956521\\\\0.347826086956521\\\\0.782608695652174\\\\0.565217391304348\\\\0.391304347826087\\\\0.304347826086956\\\\1.0\\\\0\\\\0.217391304347826\\\\0.260869565217391\\end{matrix}\\right]$"
      ],
      "text/plain": [
       "⎡0.478260869565217⎤\n",
       "⎢                 ⎥\n",
       "⎢0.478260869565217⎥\n",
       "⎢                 ⎥\n",
       "⎢0.434782608695652⎥\n",
       "⎢                 ⎥\n",
       "⎢0.391304347826087⎥\n",
       "⎢                 ⎥\n",
       "⎢0.478260869565217⎥\n",
       "⎢                 ⎥\n",
       "⎢0.521739130434782⎥\n",
       "⎢                 ⎥\n",
       "⎢0.347826086956521⎥\n",
       "⎢                 ⎥\n",
       "⎢0.347826086956521⎥\n",
       "⎢                 ⎥\n",
       "⎢0.782608695652174⎥\n",
       "⎢                 ⎥\n",
       "⎢0.565217391304348⎥\n",
       "⎢                 ⎥\n",
       "⎢0.391304347826087⎥\n",
       "⎢                 ⎥\n",
       "⎢0.304347826086956⎥\n",
       "⎢                 ⎥\n",
       "⎢       1.0       ⎥\n",
       "⎢                 ⎥\n",
       "⎢        0        ⎥\n",
       "⎢                 ⎥\n",
       "⎢0.217391304347826⎥\n",
       "⎢                 ⎥\n",
       "⎣0.260869565217391⎦"
      ]
     },
     "execution_count": 5,
     "metadata": {},
     "output_type": "execute_result"
    }
   ],
   "source": [
    "A = np.matrix([[t1[12],t2[12]], [t1[13],t2[13]]], dtype=\"float\")\n",
    "#A_inv=np.linalg.inv(A)\n",
    "x1 = np.linalg.solve(A,[1,0])\n",
    "x2 = np.linalg.solve(A,[0,1])\n",
    "prob1 = x1[0]*t1 + x1[1]*t2  # computing the probability of escaping from any cell\n",
    "prob2 = x2[0]*t1 + x2[1]*t2  # computing the probability of ending in cat-cell from any cell\n",
    "prob1"
   ]
  },
  {
   "cell_type": "markdown",
   "id": "b7500f5a",
   "metadata": {},
   "source": [
    "The resulted vector above shows the probability of reaching the cheese cell (cell#13) from any other cells, where the probability of the mouse escaping from cell#4 is 0.391304347826087"
   ]
  },
  {
   "cell_type": "code",
   "execution_count": null,
   "id": "e7edeb88",
   "metadata": {},
   "outputs": [],
   "source": []
  },
  {
   "cell_type": "markdown",
   "id": "ce1e1e79",
   "metadata": {},
   "source": [
    "**Problem 24.2.**\n",
    "\n",
    "2. Consider a diffusing particle (with diffusion coefficient $D=\\frac{1}{2}$ ) inside the triangle $x \\geq 0, y \\geq 0$, and $x+y \\leq 1$. The particle starts at $x(0)=y(0)=\\frac{1}{3}$. Find the distribution of the hitting the walls of the triangle time."
   ]
  },
  {
   "cell_type": "code",
   "execution_count": 6,
   "id": "3f608311",
   "metadata": {},
   "outputs": [
    {
     "data": {
      "image/png": "[encoded data removed]",
      "text/plain": [
       "<Figure size 432x288 with 1 Axes>"
      ]
     },
     "metadata": {
      "needs_background": "light"
     },
     "output_type": "display_data"
    }
   ],
   "source": [
    "# defining the triangle boundaries\n",
    "x_min, x_max = 0, 1\n",
    "y_min, y_max = 0, 1\n",
    "xy_max = 1\n",
    "D = 0.5        #diffusion coefficient\n",
    "dt = 0.01      #time step size\n",
    "x0 = y0 = xy_max / 3   #initial particle position\n",
    "N = 100000             # number of samples \n",
    "\n",
    "# initializing the arrays to store the hitting times and particle positions\n",
    "th = np.zeros(N)\n",
    "x = np.zeros((N, 2))\n",
    "x[:, 0] = x0\n",
    "x[:, 1] = y0\n",
    "\n",
    "# Simulate the particle diffusion until it hits one of the walls of the triangle\n",
    "for i in range(N):\n",
    "    while (x[i, 0] >= x_min and x[i, 1] >= y_min and x[i, 0] + x[i, 1] <= xy_max):\n",
    "        dx = np.random.normal(0, np.sqrt(2*D*dt), size=2)\n",
    "        x[i] += dx\n",
    "        th[i] += dt\n",
    "    # Reflect the particle off the boundary\n",
    "    if x[i, 0] < x_min:\n",
    "        x[i, 0] = 2*x_min - x[i, 0]\n",
    "    elif x[i, 1] < y_min:\n",
    "        x[i, 1] = 2*y_min - x[i, 1]\n",
    "    elif x[i, 0] + x[i, 1] > xy_max:\n",
    "        x[i] = 2*np.array([x_max, y_max]) - x[i]\n",
    "\n",
    "# Plotting the histogram of the hitting times\n",
    "plt.hist(th, bins=50, density=True)\n",
    "plt.xlabel('Hitting time')\n",
    "plt.ylabel('Density')\n",
    "plt.show()"
   ]
  },
  {
   "cell_type": "markdown",
   "id": "fffb9885",
   "metadata": {},
   "source": [
    "**Observation:** This distribution look like exponential distribution."
   ]
  },
  {
   "cell_type": "code",
   "execution_count": null,
   "id": "68ac0995",
   "metadata": {},
   "outputs": [],
   "source": []
  },
  {
   "cell_type": "markdown",
   "id": "58b5577b",
   "metadata": {},
   "source": [
    "**Problem 24.3** Consider a random variable $X \\sim N(0,1)$. Use importance sampling to estimate $\\mathrm{E} X^{20}$.\\\n",
    "\n",
    "**Solution:**\n",
    "Given $\\mathbb{E}\\left[x^{20}\\right]$, then using importance Sampling, that is\n",
    "$$\n",
    "\\begin{aligned}\n",
    "\\mathbb{E}\\left[x^{20}\\right] & =\\int x^{20} f(x) d x \\\\\n",
    "& =\\int\\left[x^{20} \\frac{f(x)}{g(x)}\\right] g(x) d x \\\\\n",
    "& =\\mathbb{E}_{g(x)}\\left[X^{20} \\frac{f(x)}{g(x)}\\right]\n",
    "\\end{aligned}\n",
    "$$\n",
    "\\\n",
    "Where $f(x)$ is the density function of the Standard normal distribution $X \\sim N(0,1)$. Now we consider using Student $t$-distribution as our suitable importance distribution due to its heavier tails than the standard normal distribution when its degree of freedom is small, such as 1 i.e. $t(1)$. In the following figure, Standard normal (blue), t-distribution (red, for degree 1,2, and 3), and previous plots shown in green.\\\n",
    "\n",
    "![alt text here](ffig2.png)\n",
    "[Source](https://en.wikipedia.org/wiki/Student%27s_t-distribution)\n",
    "\n",
    "Student's $\\boldsymbol{t}$-distribution has the probability density function (PDF) given by\n",
    "$$\n",
    "g(x)=\\frac{\\Gamma\\left(\\frac{\\nu+1}{2}\\right)}{\\sqrt{\\nu \\pi} \\Gamma\\left(\\frac{\\nu}{2}\\right)}\\left(1+\\frac{x^2}{\\nu}\\right)^{-(\\nu+1) / 2},\n",
    "$$\n",
    "where $\\nu$ is the number of degrees of freedom and $\\Gamma$ is the gamma function. This may also be written as"
   ]
  },
  {
   "cell_type": "code",
   "execution_count": 14,
   "id": "7c1040ec",
   "metadata": {},
   "outputs": [
    {
     "name": "stdout",
     "output_type": "stream",
     "text": [
      "Estimated value of E[X^20]: 649638719.1219126\n"
     ]
    }
   ],
   "source": [
    "# Defining the standard normal density function\n",
    "def f(x):\n",
    "    return norm.pdf(x)\n",
    "\n",
    "# defining the t(1) density function\n",
    "def g(x):\n",
    "    return t(1).pdf(x)\n",
    "\n",
    "N = 100000         # number of samples\n",
    "x = t(1).rvs(N)    # generating samples from the t(1) distribution\n",
    "w = f(x) / g(x)    # computing the importance weights\n",
    "est = np.mean(w * x**20)    # computing the estimate of E[X^20]\n",
    "print(\"Estimated value of E[X^20]:\", est)"
   ]
  },
  {
   "cell_type": "code",
   "execution_count": null,
   "id": "565f235e",
   "metadata": {},
   "outputs": [],
   "source": []
  },
  {
   "cell_type": "markdown",
   "id": "479d7a6e",
   "metadata": {},
   "source": [
    "**Problem 24.7.** Each cookie box independently of others contains one of 100 trading cards with equal probability. Find the distribution of the number of boxes $N$ needed to obtain a full collection. Plot its probability mass function $p: k \\mapsto \\mathrm{P}(N=k)$. Estimate the probability $\\mathrm{P}(N \\leq 500)$ that a full collection is obtained from 500 boxes or less.\n",
    "\n",
    "**Solution** \\\n",
    "We approach the problem by Monte Carlos Method"
   ]
  },
  {
   "cell_type": "code",
   "execution_count": 7,
   "id": "25798507",
   "metadata": {},
   "outputs": [
    {
     "data": {
      "image/png": "[encoded data removed]",
      "text/plain": [
       "<Figure size 432x288 with 1 Axes>"
      ]
     },
     "metadata": {
      "needs_background": "light"
     },
     "output_type": "display_data"
    }
   ],
   "source": [
    "import random\n",
    "\n",
    "def dist_func():\n",
    "    cards = set()\n",
    "    num_boxes = 0\n",
    "    while len(cards) < 100:\n",
    "        card = random.randint(1, 100)\n",
    "        cards.add(card)\n",
    "        num_boxes += 1\n",
    "    return num_boxes\n",
    "\n",
    "N = 100000  # number of trials\n",
    "results = [dist_func() for _ in range(N)]\n",
    "\n",
    "plt.hist(results, bins=np.arange(100, 1000, 10), density=True, alpha=0.7)\n",
    "plt.xlabel('Number of boxes')\n",
    "plt.ylabel('Frequency')\n",
    "plt.title('Histogram of number of boxes to obtain full collection')\n",
    "plt.show()"
   ]
  },
  {
   "cell_type": "code",
   "execution_count": 5,
   "id": "d16573e3",
   "metadata": {},
   "outputs": [
    {
     "name": "stdout",
     "output_type": "stream",
     "text": [
      "The estimated probability of obtaining a full collection in 500 boxes or less: 0.51071\n"
     ]
    }
   ],
   "source": [
    "# Computing of P(N <= 500)\n",
    "N = 100000    # number of trials\n",
    "num_successes = sum(dist_func() <= 500 for _ in range(N))\n",
    "p_success = num_successes / N\n",
    "print(\"The estimated probability of obtaining a full collection in 500 boxes or less:\", p_success)"
   ]
  },
  {
   "cell_type": "code",
   "execution_count": null,
   "id": "cbe92bc3",
   "metadata": {},
   "outputs": [],
   "source": []
  }
 ],
 "metadata": {
  "kernelspec": {
   "display_name": "Python 3 (ipykernel)",
   "language": "python",
   "name": "python3"
  },
  "language_info": {
   "codemirror_mode": {
    "name": "ipython",
    "version": 3
   },
   "file_extension": ".py",
   "mimetype": "text/x-python",
   "name": "python",
   "nbconvert_exporter": "python",
   "pygments_lexer": "ipython3",
   "version": "3.10.6"
  }
 },
 "nbformat": 4,
 "nbformat_minor": 5
}
