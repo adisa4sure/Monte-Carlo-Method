{
 "cells": [
  {
   "cell_type": "markdown",
   "id": "ec2733fa",
   "metadata": {},
   "source": [
    "## Saheed Adisa Ganiyu"
   ]
  },
  {
   "cell_type": "markdown",
   "id": "4693b031",
   "metadata": {},
   "source": [
    "**Exercise 10.1.** Consider example of the Ising model with zero singleton term, $h=0$, and uniform pair-wise term, $J \\beta=-1$, i.e. $J_{i j} \\beta=-1, \\forall\\{i, j\\} \\in \\mathcal{E}$, over $n \\times n$ grid-graph with the nearest-neighbor interaction. Construct (write down pseudo-algorithm and then code) the decimation algorithm (6).\n",
    "\n",
    "Compare the performance of the direct sampling for $n=2,3,4,5$ - that is find out how the time required to generate the next i.i.d. sample depends on $n$ - and explain.\n",
    "\n",
    "**Solution:** \\\n",
    "**Algorithm:** Decimation Algorithm for 2D Ising Model.\\\n",
    "**Input:** size of the lattice $n$.\n",
    "1. initialize lattice $x$ with $0$, and set $x^d = \\emptyset$\\\n",
    "2. choose a spin $x_{i,j}$ uniformly at random\\\n",
    "3. compute acceptance probability $prob$.\\\n",
    "4. generate a uniform random number $p$\\\n",
    "5. if $r <p$ **do** flip $x_{i,j}$\\\n",
    "6. append the $x$ to $x^d$\\\n",
    "7. repeat steps 2-6 until states of the lattice is reached."
   ]
  },
  {
   "cell_type": "code",
   "execution_count": 1,
   "id": "b9da28ca",
   "metadata": {},
   "outputs": [],
   "source": [
    "import numpy as np\n",
    "import matplotlib.pyplot as plt"
   ]
  },
  {
   "cell_type": "code",
   "execution_count": 9,
   "id": "ae829676",
   "metadata": {},
   "outputs": [],
   "source": [
    "# function to calculate energy of the lattice\n",
    "global beta\n",
    "global H\n",
    "global J\n",
    "def E_tot(lat):\n",
    "    S = 0\n",
    "    for i in range(lat.shape[0]):\n",
    "        for j in range(lat.shape[1]-1):\n",
    "            S += -1/2 * (lat[i,j]*J*lat[i,j+1])\n",
    "        for j in range(lat.shape[1]):\n",
    "            S += H * lat[i,j]\n",
    "    for j in range(lat.shape[1]):\n",
    "        for i in range(lat.shape[0]-1):\n",
    "            S += -1/2 * (lat[i,j]*J*lat[i+1,j])\n",
    "    return S\n",
    "\n",
    "# parameters\n",
    "J,H,beta = 1, 0, -1\n",
    "\n",
    "def prob(lat):  # non normalized probability\n",
    "    return np.exp(-beta*E_tot(lat))\n",
    "\n",
    "def ising_decimation(n):\n",
    "    lats = []\n",
    "    # initialize with 0s so only states already assigned will contribute\n",
    "    lat = np.zeros((n,n))\n",
    "    for i in np.random.permutation(n):\n",
    "        for j in np.random.permutation(n):\n",
    "            lat[i,j] = 1\n",
    "            pp1 = prob(lat)\n",
    "            lat[i,j] = -1\n",
    "            pm1 = prob(lat)\n",
    "            p = np.random.uniform()\n",
    "            if p < pp1/(pp1+pm1):\n",
    "                lat[i,j] = 1\n",
    "    lats = lats + [lat.copy()]\n",
    "    return lats"
   ]
  },
  {
   "cell_type": "code",
   "execution_count": 10,
   "id": "1ce3d7ad",
   "metadata": {},
   "outputs": [],
   "source": [
    "# Direct Sampling using Metropolis algorithm\n",
    "def ising_metropolis(n, beta):\n",
    "    lattice = 2*np.random.randint(2, size=(n,n))-1\n",
    "    J = 1.0\n",
    "    for i in range(n):\n",
    "        for j in range(n):\n",
    "                a = np.random.randint(0, n)\n",
    "                b = np.random.randint(0, n)\n",
    "                s =  lattice[a, b]\n",
    "                nb = lattice[(a+1)%n,b] + lattice[a,(b+1)%n] + lattice[(a-1)%n,b] + lattice[a,(b-1)%n]\n",
    "                dE = 2*J*s*nb\n",
    "                if dE < 0:\n",
    "                    s *= -1\n",
    "                elif np.random.uniform() < np.exp(-dE*beta):\n",
    "                    s *= -1\n",
    "                lattice[a, b] = s\n",
    "    return lattice"
   ]
  },
  {
   "cell_type": "code",
   "execution_count": 11,
   "id": "baa920f7",
   "metadata": {},
   "outputs": [
    {
     "name": "stdout",
     "output_type": "stream",
     "text": [
      "n = 2\n",
      "Decimation time: 0.15550756454467773\n",
      "Direct Sampling time: 0.07449126243591309\n",
      "\n",
      "n = 3\n",
      "Decimation time: 0.3532288074493408\n",
      "Direct Sampling time: 0.13236093521118164\n",
      "\n",
      "n = 4\n",
      "Decimation time: 0.8690123558044434\n",
      "Direct Sampling time: 0.20649957656860352\n",
      "\n",
      "n = 5\n",
      "Decimation time: 2.0839109420776367\n",
      "Direct Sampling time: 0.31449222564697266\n",
      "\n"
     ]
    }
   ],
   "source": [
    "import time\n",
    "\n",
    "for n in range(2, 6):\n",
    "    print(f\"n = {n}\")\n",
    "    \n",
    "    # Decimation algorithm\n",
    "    start_time = time.time()\n",
    "    for i in range(1000):\n",
    "        ising_decimation(n)\n",
    "    print(f\"Decimation time: {time.time() - start_time}\")\n",
    "    \n",
    "    # Direct sampling\n",
    "    start_time = time.time()\n",
    "    for i in range(1000):\n",
    "        ising_metropolis(n, beta=-1)\n",
    "    print(f\"Direct Sampling time: {time.time() - start_time}\\n\")\n"
   ]
  },
  {
   "cell_type": "markdown",
   "id": "f19e176c",
   "metadata": {},
   "source": [
    "**Remark:** From the above result, it is surprized that Direct sampling is faster than Decimation algorithm. I guess that it may be due to my own implementation, unfortunately, there no more time for me to figure it out."
   ]
  },
  {
   "cell_type": "code",
   "execution_count": null,
   "id": "60c6e326",
   "metadata": {},
   "outputs": [],
   "source": []
  },
  {
   "cell_type": "markdown",
   "id": "b012cbcd",
   "metadata": {},
   "source": [
    "**Problem 10.5:** Find the Chow-Liu optimal spanning tree approximation for the joint probability distribution of four random binary variables with statistical information presented in the Table 10.1. [Hint: Estimate the empirical (i.e. based on the data), pair-wise mutual information and then utilize the Chow-Liu-Kruskal algorithm (see description above in the lecture notes) to reconstruct the optimal tree.]\n",
    "\n",
    "**Solution:** As it is given in the algorithm, we need to calculate Mutual Information $I(X_i,X_j)$, which is defined as \n",
    "$$\n",
    "I\\left(X_i, X_j\\right):=\\sum_{x_i, x_j} P\\left(x_i, x_j\\right) \\log \\frac{P\\left(x_i, x_j\\right)}{P\\left(x_i\\right) P\\left(x_j\\right)}.\n",
    "$$\n",
    "Therefore, we need to calculate $P\\left(x_i\\right)$, and $P\\left(x_i, x_j\\right)$. From the given table, we can obtain the marginal probability of $X_i$ as follow, for instance, $P(X_1 = m)$, and $P(X_1 = k, X_2 = m)$:\n",
    "\n",
    "$$ \n",
    "P(X_1 = k) = \\sum P(X_1 = k, X_2, X_3, X_4).\n",
    "$$\n",
    "Similarly, we have\n",
    "$$\n",
    "P(X_1 = k, X_2 = m) = \\sum P(X_1 = k, X_2 = m, X_3, X_4).\n",
    "$$\n",
    "Therefore, we have"
   ]
  },
  {
   "cell_type": "code",
   "execution_count": 12,
   "id": "b43905e3",
   "metadata": {},
   "outputs": [],
   "source": [
    "p_x1 = np.array([0.45,0.55])\n",
    "p_x2 = np.array([0.45,0.55])\n",
    "p_x3 = np.array([0.45,0.55])\n",
    "p_x4 = np.array([0.5,0.5])\n",
    "p_x1x2 = np.array([[0.3,0.15],[0.15,0.4]])\n",
    "p_x1x3 = np.array([[0.2,0.25],[0.25,0.3]])\n",
    "p_x1x4 = np.array([[0.25,0.25],[0.2,0.3]])\n",
    "p_x2x3 = np.array([[0.35,0.1],[0.1,0.45]])\n",
    "p_x2x4 = np.array([[0.2,0.3],[0.25,0.25]])\n",
    "p_x3x4 = np.array([[0.2,0.3],[0.25,0.25]])"
   ]
  },
  {
   "cell_type": "code",
   "execution_count": 13,
   "id": "c7edc3ae",
   "metadata": {},
   "outputs": [],
   "source": [
    "# definition of Mutual Information \n",
    "def mutual_info(p_xixj,p_xi,p_xj):\n",
    "    event = [0,1]\n",
    "    I_xixj = 0\n",
    "    for i in event:\n",
    "        for j in event:\n",
    "            I_xixj += p_xixj[i,j]*np.log(p_xixj[i,j]/(p_xi[i]*p_xj[j]))\n",
    "    return I_xixj"
   ]
  },
  {
   "cell_type": "code",
   "execution_count": 19,
   "id": "971c2d42",
   "metadata": {},
   "outputs": [
    {
     "name": "stdout",
     "output_type": "stream",
     "text": [
      "I_x1x2 = 0.07943349791396961\n",
      "I_x1x3 = 5.1023082630614024e-05\n",
      "I_x1x4 = 0.015092924702095164\n",
      "I_x2x3 = 0.18899440195583322\n",
      "I_x2x4 = 0.015092924702095136\n",
      "I_x3x4 = 0.015092924702095136\n"
     ]
    }
   ],
   "source": [
    "# Calculating the Mutual Information\n",
    "print('I_x1x2 = {}'.format(mutual_info(p_x1x2,p_x1,p_x2)))\n",
    "print('I_x1x3 = {}'.format(mutual_info(p_x1x3,p_x1,p_x3)))\n",
    "print('I_x1x4 = {}'.format(mutual_info(p_x1x4,p_x1,p_x4)))\n",
    "print('I_x2x3 = {}'.format(mutual_info(p_x2x3,p_x2,p_x3)))\n",
    "print('I_x2x4 = {}'.format(mutual_info(p_x2x4,p_x2,p_x4)))\n",
    "print('I_x3x4 = {}'.format(mutual_info(p_x3x4,p_x3,p_x4)))"
   ]
  },
  {
   "cell_type": "markdown",
   "id": "2463b04c",
   "metadata": {},
   "source": [
    "**Remark:** from the Chow-Liu-Kruskal algorithm, we will have those folowing edges connected $X2X3, X2X1, X1X4$ orderly."
   ]
  },
  {
   "cell_type": "code",
   "execution_count": null,
   "id": "4d54cf5a",
   "metadata": {},
   "outputs": [],
   "source": []
  },
  {
   "cell_type": "markdown",
   "id": "2ce1598a",
   "metadata": {},
   "source": [
    "**Proble 10.6.** Consider the following two-layer $(L=2)$ NN-map, $v \\rightarrow w$ where $v, w \\in \\mathbb{R}$, built from three ReLU neurons :\n",
    "$$\n",
    "v_{1 i}=\\operatorname{ReLU}\\left(a_i v+b_i\\right), \\forall i=1,2, \\boldsymbol{v}_1=\\left(v_{11}, v_{12}\\right) \\in \\mathbb{R}^2, w=v_2=\\operatorname{ReLU}\\left(\\boldsymbol{A}_3 \\cdot \\boldsymbol{v}_1^T+b_3\\right),\n",
    "$$\n",
    "where thus, $\\boldsymbol{A}_3 \\in \\mathbb{R}^{1 \\times 2}$, and, $a_1, a_2, b_1, b_2, b_3 \\in \\mathbb{R}$, are the parameters.\n",
    "(a) Describe the complexity of the class of functions representing this NN.\n",
    "(b) What is the minimal number $P$ of non-degenerate samples, $\\left(v^{(p)}, w^{(p)}\\right), p=1, \\cdots, P$, needed for exact (!) reconstruction of the NN's parameters?\n",
    "(c) Build an example where this NN outputs continuous piece-wise linear function with two linear intervals.\n",
    "\n",
    "**Solution:** \\\n",
    "(a) From the given problem, we have three ReLU neurons, so the NN can represent a piecewise linear continuous function with up to three linear intervals. Therefore, the complexity of the class of functions that can be represented by this NN is $O(3^n)$, where $n$ is the number of input dimensions.\\\n",
    "\n",
    "(b) For the exact reconstruction of the NN’s parameters,  we need to solve a system of linear equations. There are five parameters to be determined: $a_1$, $a_2$, $b_1$, $b_2$, and $b_3$. We can use five non-degenerate samples of the form $(v^{(p)}, w^{(p)})$, where $v^{(p)}$ and $w^{(p)}$ are distinct, to form five linear equations in the five unknowns. Thus, the minimal number of non-degenerate samples needed for exact reconstruction is $P=5$.\\\n",
    "\n",
    "(c) Let's set the parameters as follows:\n",
    "$$\n",
    "a_1=a_2=1, b_1=-1, b_2=-2, b_3=0, \\boldsymbol{A}_3 = \\begin{pmatrix}1 & -1\\end{pmatrix}.\n",
    "$$\n",
    "Then, the first, the second, and the third ReLU neuron will output $v_{11}=\\max(0,v-1)$, $v_{12}=\\max(0,v-2)$, and $v_2=\\max(0,v_{11}-v_{12})$ respectively. We can plot this function as follows:"
   ]
  },
  {
   "cell_type": "code",
   "execution_count": 22,
   "id": "e0509e80",
   "metadata": {},
   "outputs": [
    {
     "data": {
      "image/png": "[encoded data removed]",
      "text/plain": [
       "<Figure size 432x288 with 1 Axes>"
      ]
     },
     "metadata": {
      "needs_background": "light"
     },
     "output_type": "display_data"
    }
   ],
   "source": [
    "# Part (c)\n",
    "import numpy as np\n",
    "import matplotlib.pyplot as plt\n",
    "\n",
    "# Define parameters\n",
    "a1 = a2 = 1; b1 = -1; b2 = -2; b3 = 0\n",
    "A3 = np.array([[1, -1]])\n",
    "\n",
    "def ReLU(x):  # ReLU function\n",
    "    return np.maximum(0, x)\n",
    "\n",
    "def NN(v):  # NN function\n",
    "    v1 = np.array([ReLU(a1 * v + b1), ReLU(a2 * v + b2)])\n",
    "    return ReLU(A3 @ v1 + b3)\n",
    "\n",
    "# Define input values for plotting\n",
    "v = np.linspace(-2, 2., 100)\n",
    "w = np.zeros_like(v)\n",
    "for i, vv in enumerate(v):\n",
    "    w[i] = NN(vv)\n",
    "    \n",
    "plt.plot(v, w)\n",
    "plt.xlabel('v')\n",
    "plt.ylabel('w')\n",
    "plt.title('Piece-wise Linear Function')\n",
    "plt.show()"
   ]
  },
  {
   "cell_type": "code",
   "execution_count": null,
   "id": "f81fd0b9",
   "metadata": {},
   "outputs": [],
   "source": []
  }
 ],
 "metadata": {
  "kernelspec": {
   "display_name": "Python 3 (ipykernel)",
   "language": "python",
   "name": "python3"
  },
  "language_info": {
   "codemirror_mode": {
    "name": "ipython",
    "version": 3
   },
   "file_extension": ".py",
   "mimetype": "text/x-python",
   "name": "python",
   "nbconvert_exporter": "python",
   "pygments_lexer": "ipython3",
   "version": "3.11.5"
  }
 },
 "nbformat": 4,
 "nbformat_minor": 5
}
